{
  "cells": [
    {
      "cell_type": "code",
      "execution_count": null,
      "metadata": {
        "colab": {
          "base_uri": "https://localhost:8080/"
        },
        "id": "DgDTXeBRxcBg",
        "outputId": "6932b5f4-c9b8-4899-d101-f83c8abdf91c"
      },
      "outputs": [],
      "source": [
        "pip install gtts"
      ]
    },
    {
      "cell_type": "code",
      "execution_count": null,
      "metadata": {
        "colab": {
          "base_uri": "https://localhost:8080/"
        },
        "id": "eLmWejGGc8Cn",
        "outputId": "f803171e-b004-46a5-b962-d0d600106e56"
      },
      "outputs": [],
      "source": [
        "pip install pygame"
      ]
    },
    {
      "cell_type": "code",
      "execution_count": null,
      "metadata": {
        "colab": {
          "base_uri": "https://localhost:8080/"
        },
        "id": "5bIwqW5kysZM",
        "outputId": "266c737b-32a7-4f34-c76e-414044294dea"
      },
      "outputs": [],
      "source": [
        "import transformers\n",
        "import os\n",
        "from gtts import gTTS\n",
        "import pygame\n",
        "import tensorflow as tf"
      ]
    },
    {
      "cell_type": "markdown",
      "metadata": {
        "id": "SPbXBufyw6-I"
      },
      "source": [
        "Execution of the chatbot"
      ]
    },
    {
      "cell_type": "code",
      "execution_count": null,
      "metadata": {
        "colab": {
          "base_uri": "https://localhost:8080/",
          "height": 478
        },
        "id": "58SamAZDw7sA",
        "outputId": "5a90b7b2-2ed7-4fcd-ce04-bc61b17d36b8"
      },
      "outputs": [],
      "source": [
        "class ChatBot:\n",
        "    def __init__(self, name):\n",
        "        print(\"----- Starting up\", name, \"-----\")\n",
        "        self.name = name\n",
        "        pygame.init()\n",
        "        # pygame.mixer.init()  # Uncomment if needed\n",
        "\n",
        "    def speak(self, text):\n",
        "        tts = gTTS(text=text, lang='en')\n",
        "        tts.save(\"output.mp3\")\n",
        "        pygame.mixer.music.load(\"output.mp3\")\n",
        "        pygame.mixer.music.play()\n",
        "        while pygame.mixer.music.get_busy():\n",
        "            continue\n",
        "\n",
        "    def wake_up(self, text):\n",
        "        return True if self.name.lower() in text.lower() else False\n",
        "\n",
        "if __name__ == \"__main__\":\n",
        "    ai = ChatBot(name=\"GP\")\n",
        "    token = transformers.AutoTokenizer.from_pretrained(\"microsoft/DialoGPT-medium\")\n",
        "    nlp = transformers.pipeline(\"conversational\", model=\"microsoft/DialoGPT-medium\", tokenizer=token, device='cpu')\n",
        "    os.environ[\"TOKENIZERS_PARALLELISM\"] = \"true\"\n",
        "    ex = True\n",
        "    while ex:\n",
        "        ai.text = input(\"You: \")  # Get user input inside the loop\n",
        "        if ai.wake_up(ai.text):\n",
        "            res = \"Hello I am \" + ai.name + \", what can I do for you?\"\n",
        "            ai.speak(res)\n",
        "        elif any(i in ai.text for i in [\"exit\", \"close\", \"bye\"]):\n",
        "            res = \"Tata\"  # Use a default exit message for simplicity\n",
        "            ai.speak(res)\n",
        "            ex = False\n",
        "        else:\n",
        "            try:\n",
        "                chat = nlp(transformers.Conversation(ai.text), pad_token_id=50256)\n",
        "                response = chat.generated_responses[0]\n",
        "                print(\"Bot:\", response)  # Print the bot's response directly\n",
        "                ai.speak(response)\n",
        "            except KeyError as e:\n",
        "                print(\"Error:\", e)\n",
        "            except Exception as e:\n",
        "                print(\"Unexpected error:\", e)\n",
        "    print(\"----- Closing down chatbot -----\")\n",
        "\n"
      ]
    }
  ],
  "metadata": {
    "colab": {
      "provenance": []
    },
    "kernelspec": {
      "display_name": "Python 3",
      "name": "python3"
    },
    "language_info": {
      "name": "python"
    }
  },
  "nbformat": 4,
  "nbformat_minor": 0
}
